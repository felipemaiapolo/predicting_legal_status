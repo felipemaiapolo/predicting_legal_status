{
 "cells": [
  {
   "cell_type": "markdown",
   "metadata": {},
   "source": [
    "# Tuning classifiers (XGBoost)"
   ]
  },
  {
   "cell_type": "markdown",
   "metadata": {},
   "source": [
    "### Setup"
   ]
  },
  {
   "cell_type": "code",
   "execution_count": 1,
   "metadata": {
    "collapsed": true
   },
   "outputs": [],
   "source": [
    "%run -i 'random_state.py'\n",
    "from packages import *\n",
    "from clean_functions import *\n",
    "from tokenizer import *\n",
    "from tuners import *"
   ]
  },
  {
   "cell_type": "markdown",
   "metadata": {},
   "source": [
    "Defining general Grid"
   ]
  },
  {
   "cell_type": "code",
   "execution_count": 2,
   "metadata": {
    "collapsed": true
   },
   "outputs": [],
   "source": [
    "hyper_xgboost = {'max_depth': [3, 5, 7, 9],\n",
    "                 'learning_rate': [.1, .5, 1.],\n",
    "                 'gamma': [0, .00001, .0001, .001, .01, .1, 1],\n",
    "                 'reg_lambda': [10., 50., 100., 300., 500., 1000.],\n",
    "                 'n_est':[0],\n",
    "                 'score': [0], \n",
    "                 'lower_ci': [0], \n",
    "                 'upper_ci': [0]}"
   ]
  },
  {
   "cell_type": "markdown",
   "metadata": {},
   "source": [
    "# W2V/XGBoost"
   ]
  },
  {
   "cell_type": "markdown",
   "metadata": {},
   "source": [
    "### Getting data ready"
   ]
  },
  {
   "cell_type": "markdown",
   "metadata": {},
   "source": [
    "Loading data"
   ]
  },
  {
   "cell_type": "code",
   "execution_count": 3,
   "metadata": {
    "collapsed": true
   },
   "outputs": [],
   "source": [
    "X, y=np.load('data/X_w2v.npy'),np.load('data/y_w2v.npy')"
   ]
  },
  {
   "cell_type": "code",
   "execution_count": 4,
   "metadata": {
    "collapsed": true
   },
   "outputs": [],
   "source": [
    "N=np.sum(X[:,:,:,0]!=0, axis=2)\n",
    "N=np.expand_dims(N, axis=2)\n",
    "N[N==0]=1\n",
    "X=np.sum(X, axis=2)\n",
    "X=X/N\n",
    "X=X.reshape((X.shape[0],-1))"
   ]
  },
  {
   "cell_type": "markdown",
   "metadata": {},
   "source": [
    "Turning y into numeric:"
   ]
  },
  {
   "cell_type": "code",
   "execution_count": 5,
   "metadata": {
    "collapsed": true
   },
   "outputs": [],
   "source": [
    "encode={'H:Arquivado': 1,'H:Ativo': 2,'H:Suspenso': 3}\n",
    "decode={1:'H:Arquivado',2:'H:Ativo',3:'H:Suspenso'}\n",
    "\n",
    "for i in range(len(y)):\n",
    "    y[i]=encode[y[i]]"
   ]
  },
  {
   "cell_type": "markdown",
   "metadata": {},
   "source": [
    "Splitting the dataset in train, test and validation set:"
   ]
  },
  {
   "cell_type": "code",
   "execution_count": 6,
   "metadata": {},
   "outputs": [
    {
     "data": {
      "text/plain": [
       "((4514, 500), (4514,))"
      ]
     },
     "execution_count": 6,
     "metadata": {},
     "output_type": "execute_result"
    }
   ],
   "source": [
    "y=np.array(y.astype(int))-1\n",
    "\n",
    "X_train, X_test, y_train, y_test = train_test_split(X, y, test_size=0.3, random_state=random_seed)\n",
    "X_val, X_test, y_val, y_test = train_test_split(X_test, y_test, test_size=2/3, random_state=random_seed)\n",
    "\n",
    "np.shape(X_train),np.shape(y_train)"
   ]
  },
  {
   "cell_type": "markdown",
   "metadata": {},
   "source": [
    "### Tuning classification model"
   ]
  },
  {
   "cell_type": "markdown",
   "metadata": {},
   "source": [
    "Grid"
   ]
  },
  {
   "cell_type": "code",
   "execution_count": 7,
   "metadata": {},
   "outputs": [
    {
     "data": {
      "text/plain": [
       "(50, 8)"
      ]
     },
     "execution_count": 7,
     "metadata": {},
     "output_type": "execute_result"
    }
   ],
   "source": [
    "hyper=expand_grid(hyper_xgboost.copy(), random_seed=random_seed)\n",
    "hyper=hyper[['max_depth','learning_rate','gamma','reg_lambda', 'n_est', 'score','lower_ci','upper_ci']]\n",
    "\n",
    "np.shape(hyper)"
   ]
  },
  {
   "cell_type": "markdown",
   "metadata": {},
   "source": [
    "Search"
   ]
  },
  {
   "cell_type": "code",
   "execution_count": 8,
   "metadata": {},
   "outputs": [
    {
     "name": "stderr",
     "output_type": "stream",
     "text": [
      "100%|██████████| 50/50 [18:17<00:00, 21.96s/it]"
     ]
    },
    {
     "name": "stdout",
     "output_type": "stream",
     "text": [
      "CPU times: user 1h 46min 28s, sys: 17.3 s, total: 1h 46min 45s\n",
      "Wall time: 18min 18s\n"
     ]
    },
    {
     "name": "stderr",
     "output_type": "stream",
     "text": [
      "\n"
     ]
    }
   ],
   "source": [
    "%%time\n",
    "hyper=tune_xgboost(hyper, X_train, y_train, X_val, y_val, random_seed)\n",
    "hyper.to_csv('hyper/hyper_xgboost_w2v')"
   ]
  },
  {
   "cell_type": "code",
   "execution_count": 9,
   "metadata": {},
   "outputs": [
    {
     "data": {
      "text/html": [
       "<div>\n",
       "<style scoped>\n",
       "    .dataframe tbody tr th:only-of-type {\n",
       "        vertical-align: middle;\n",
       "    }\n",
       "\n",
       "    .dataframe tbody tr th {\n",
       "        vertical-align: top;\n",
       "    }\n",
       "\n",
       "    .dataframe thead th {\n",
       "        text-align: right;\n",
       "    }\n",
       "</style>\n",
       "<table border=\"1\" class=\"dataframe\">\n",
       "  <thead>\n",
       "    <tr style=\"text-align: right;\">\n",
       "      <th></th>\n",
       "      <th>max_depth</th>\n",
       "      <th>learning_rate</th>\n",
       "      <th>gamma</th>\n",
       "      <th>reg_lambda</th>\n",
       "      <th>n_est</th>\n",
       "      <th>score</th>\n",
       "      <th>lower_ci</th>\n",
       "      <th>upper_ci</th>\n",
       "    </tr>\n",
       "  </thead>\n",
       "  <tbody>\n",
       "    <tr>\n",
       "      <th>43</th>\n",
       "      <td>9</td>\n",
       "      <td>0.5</td>\n",
       "      <td>0.00010</td>\n",
       "      <td>50.0</td>\n",
       "      <td>23</td>\n",
       "      <td>0.919380</td>\n",
       "      <td>0.898369</td>\n",
       "      <td>0.940391</td>\n",
       "    </tr>\n",
       "    <tr>\n",
       "      <th>28</th>\n",
       "      <td>9</td>\n",
       "      <td>0.1</td>\n",
       "      <td>0.00000</td>\n",
       "      <td>100.0</td>\n",
       "      <td>97</td>\n",
       "      <td>0.919380</td>\n",
       "      <td>0.898369</td>\n",
       "      <td>0.940391</td>\n",
       "    </tr>\n",
       "    <tr>\n",
       "      <th>29</th>\n",
       "      <td>9</td>\n",
       "      <td>0.5</td>\n",
       "      <td>0.00000</td>\n",
       "      <td>50.0</td>\n",
       "      <td>23</td>\n",
       "      <td>0.919380</td>\n",
       "      <td>0.898369</td>\n",
       "      <td>0.940391</td>\n",
       "    </tr>\n",
       "    <tr>\n",
       "      <th>6</th>\n",
       "      <td>9</td>\n",
       "      <td>1.0</td>\n",
       "      <td>0.10000</td>\n",
       "      <td>1000.0</td>\n",
       "      <td>32</td>\n",
       "      <td>0.919380</td>\n",
       "      <td>0.898369</td>\n",
       "      <td>0.940391</td>\n",
       "    </tr>\n",
       "    <tr>\n",
       "      <th>17</th>\n",
       "      <td>3</td>\n",
       "      <td>0.1</td>\n",
       "      <td>0.10000</td>\n",
       "      <td>50.0</td>\n",
       "      <td>127</td>\n",
       "      <td>0.919380</td>\n",
       "      <td>0.898369</td>\n",
       "      <td>0.940391</td>\n",
       "    </tr>\n",
       "    <tr>\n",
       "      <th>46</th>\n",
       "      <td>5</td>\n",
       "      <td>0.1</td>\n",
       "      <td>0.01000</td>\n",
       "      <td>100.0</td>\n",
       "      <td>122</td>\n",
       "      <td>0.920930</td>\n",
       "      <td>0.900105</td>\n",
       "      <td>0.941755</td>\n",
       "    </tr>\n",
       "    <tr>\n",
       "      <th>0</th>\n",
       "      <td>7</td>\n",
       "      <td>0.5</td>\n",
       "      <td>0.00000</td>\n",
       "      <td>1000.0</td>\n",
       "      <td>73</td>\n",
       "      <td>0.920930</td>\n",
       "      <td>0.900105</td>\n",
       "      <td>0.941755</td>\n",
       "    </tr>\n",
       "    <tr>\n",
       "      <th>27</th>\n",
       "      <td>5</td>\n",
       "      <td>1.0</td>\n",
       "      <td>0.10000</td>\n",
       "      <td>300.0</td>\n",
       "      <td>41</td>\n",
       "      <td>0.920930</td>\n",
       "      <td>0.900105</td>\n",
       "      <td>0.941755</td>\n",
       "    </tr>\n",
       "    <tr>\n",
       "      <th>11</th>\n",
       "      <td>9</td>\n",
       "      <td>1.0</td>\n",
       "      <td>0.10000</td>\n",
       "      <td>100.0</td>\n",
       "      <td>29</td>\n",
       "      <td>0.920930</td>\n",
       "      <td>0.900105</td>\n",
       "      <td>0.941755</td>\n",
       "    </tr>\n",
       "    <tr>\n",
       "      <th>7</th>\n",
       "      <td>7</td>\n",
       "      <td>1.0</td>\n",
       "      <td>0.00000</td>\n",
       "      <td>10.0</td>\n",
       "      <td>34</td>\n",
       "      <td>0.920930</td>\n",
       "      <td>0.900105</td>\n",
       "      <td>0.941755</td>\n",
       "    </tr>\n",
       "    <tr>\n",
       "      <th>1</th>\n",
       "      <td>5</td>\n",
       "      <td>0.5</td>\n",
       "      <td>0.00001</td>\n",
       "      <td>500.0</td>\n",
       "      <td>49</td>\n",
       "      <td>0.920930</td>\n",
       "      <td>0.900105</td>\n",
       "      <td>0.941755</td>\n",
       "    </tr>\n",
       "    <tr>\n",
       "      <th>38</th>\n",
       "      <td>7</td>\n",
       "      <td>0.1</td>\n",
       "      <td>0.10000</td>\n",
       "      <td>10.0</td>\n",
       "      <td>97</td>\n",
       "      <td>0.922481</td>\n",
       "      <td>0.901843</td>\n",
       "      <td>0.943119</td>\n",
       "    </tr>\n",
       "    <tr>\n",
       "      <th>5</th>\n",
       "      <td>9</td>\n",
       "      <td>0.5</td>\n",
       "      <td>1.00000</td>\n",
       "      <td>50.0</td>\n",
       "      <td>23</td>\n",
       "      <td>0.922481</td>\n",
       "      <td>0.901843</td>\n",
       "      <td>0.943119</td>\n",
       "    </tr>\n",
       "    <tr>\n",
       "      <th>3</th>\n",
       "      <td>5</td>\n",
       "      <td>1.0</td>\n",
       "      <td>0.00010</td>\n",
       "      <td>10.0</td>\n",
       "      <td>23</td>\n",
       "      <td>0.922481</td>\n",
       "      <td>0.901843</td>\n",
       "      <td>0.943119</td>\n",
       "    </tr>\n",
       "    <tr>\n",
       "      <th>49</th>\n",
       "      <td>7</td>\n",
       "      <td>0.5</td>\n",
       "      <td>0.00010</td>\n",
       "      <td>50.0</td>\n",
       "      <td>16</td>\n",
       "      <td>0.922481</td>\n",
       "      <td>0.901843</td>\n",
       "      <td>0.943119</td>\n",
       "    </tr>\n",
       "    <tr>\n",
       "      <th>23</th>\n",
       "      <td>9</td>\n",
       "      <td>1.0</td>\n",
       "      <td>0.00000</td>\n",
       "      <td>500.0</td>\n",
       "      <td>62</td>\n",
       "      <td>0.924031</td>\n",
       "      <td>0.903584</td>\n",
       "      <td>0.944478</td>\n",
       "    </tr>\n",
       "    <tr>\n",
       "      <th>40</th>\n",
       "      <td>7</td>\n",
       "      <td>0.5</td>\n",
       "      <td>0.01000</td>\n",
       "      <td>50.0</td>\n",
       "      <td>32</td>\n",
       "      <td>0.924031</td>\n",
       "      <td>0.903584</td>\n",
       "      <td>0.944478</td>\n",
       "    </tr>\n",
       "    <tr>\n",
       "      <th>15</th>\n",
       "      <td>7</td>\n",
       "      <td>0.5</td>\n",
       "      <td>0.00010</td>\n",
       "      <td>300.0</td>\n",
       "      <td>82</td>\n",
       "      <td>0.924031</td>\n",
       "      <td>0.903584</td>\n",
       "      <td>0.944478</td>\n",
       "    </tr>\n",
       "    <tr>\n",
       "      <th>32</th>\n",
       "      <td>5</td>\n",
       "      <td>0.5</td>\n",
       "      <td>0.10000</td>\n",
       "      <td>500.0</td>\n",
       "      <td>67</td>\n",
       "      <td>0.924031</td>\n",
       "      <td>0.903584</td>\n",
       "      <td>0.944478</td>\n",
       "    </tr>\n",
       "    <tr>\n",
       "      <th>22</th>\n",
       "      <td>5</td>\n",
       "      <td>1.0</td>\n",
       "      <td>0.00001</td>\n",
       "      <td>300.0</td>\n",
       "      <td>62</td>\n",
       "      <td>0.930233</td>\n",
       "      <td>0.910572</td>\n",
       "      <td>0.949894</td>\n",
       "    </tr>\n",
       "  </tbody>\n",
       "</table>\n",
       "</div>"
      ],
      "text/plain": [
       "    max_depth  learning_rate    gamma  reg_lambda  n_est     score  lower_ci  \\\n",
       "43          9            0.5  0.00010        50.0     23  0.919380  0.898369   \n",
       "28          9            0.1  0.00000       100.0     97  0.919380  0.898369   \n",
       "29          9            0.5  0.00000        50.0     23  0.919380  0.898369   \n",
       "6           9            1.0  0.10000      1000.0     32  0.919380  0.898369   \n",
       "17          3            0.1  0.10000        50.0    127  0.919380  0.898369   \n",
       "46          5            0.1  0.01000       100.0    122  0.920930  0.900105   \n",
       "0           7            0.5  0.00000      1000.0     73  0.920930  0.900105   \n",
       "27          5            1.0  0.10000       300.0     41  0.920930  0.900105   \n",
       "11          9            1.0  0.10000       100.0     29  0.920930  0.900105   \n",
       "7           7            1.0  0.00000        10.0     34  0.920930  0.900105   \n",
       "1           5            0.5  0.00001       500.0     49  0.920930  0.900105   \n",
       "38          7            0.1  0.10000        10.0     97  0.922481  0.901843   \n",
       "5           9            0.5  1.00000        50.0     23  0.922481  0.901843   \n",
       "3           5            1.0  0.00010        10.0     23  0.922481  0.901843   \n",
       "49          7            0.5  0.00010        50.0     16  0.922481  0.901843   \n",
       "23          9            1.0  0.00000       500.0     62  0.924031  0.903584   \n",
       "40          7            0.5  0.01000        50.0     32  0.924031  0.903584   \n",
       "15          7            0.5  0.00010       300.0     82  0.924031  0.903584   \n",
       "32          5            0.5  0.10000       500.0     67  0.924031  0.903584   \n",
       "22          5            1.0  0.00001       300.0     62  0.930233  0.910572   \n",
       "\n",
       "    upper_ci  \n",
       "43  0.940391  \n",
       "28  0.940391  \n",
       "29  0.940391  \n",
       "6   0.940391  \n",
       "17  0.940391  \n",
       "46  0.941755  \n",
       "0   0.941755  \n",
       "27  0.941755  \n",
       "11  0.941755  \n",
       "7   0.941755  \n",
       "1   0.941755  \n",
       "38  0.943119  \n",
       "5   0.943119  \n",
       "3   0.943119  \n",
       "49  0.943119  \n",
       "23  0.944478  \n",
       "40  0.944478  \n",
       "15  0.944478  \n",
       "32  0.944478  \n",
       "22  0.949894  "
      ]
     },
     "execution_count": 9,
     "metadata": {},
     "output_type": "execute_result"
    }
   ],
   "source": [
    "hyper.iloc[np.argsort(hyper.loc[:,'score']),:].tail(20)"
   ]
  },
  {
   "cell_type": "markdown",
   "metadata": {},
   "source": [
    "# BERT/XGBoost"
   ]
  },
  {
   "cell_type": "markdown",
   "metadata": {},
   "source": [
    "### Getting data ready"
   ]
  },
  {
   "cell_type": "markdown",
   "metadata": {},
   "source": [
    "Loading data:"
   ]
  },
  {
   "cell_type": "code",
   "execution_count": 10,
   "metadata": {
    "collapsed": true
   },
   "outputs": [],
   "source": [
    "X, y = np.load('data/X_bert.npy'),np.load('data/y_bert.npy')"
   ]
  },
  {
   "cell_type": "code",
   "execution_count": 11,
   "metadata": {
    "collapsed": true
   },
   "outputs": [],
   "source": [
    "X=X.reshape((X.shape[0],-1))"
   ]
  },
  {
   "cell_type": "markdown",
   "metadata": {},
   "source": [
    "Turning y into numeric:"
   ]
  },
  {
   "cell_type": "code",
   "execution_count": 12,
   "metadata": {
    "collapsed": true
   },
   "outputs": [],
   "source": [
    "encode={'H:Arquivado': 1,'H:Ativo': 2,'H:Suspenso': 3}\n",
    "decode={1:'H:Arquivado',2:'H:Ativo',3:'H:Suspenso'}\n",
    "\n",
    "for i in range(len(y)):\n",
    "    y[i]=encode[y[i]]"
   ]
  },
  {
   "cell_type": "markdown",
   "metadata": {},
   "source": [
    "Splitting the dataset in train, test and validation set:"
   ]
  },
  {
   "cell_type": "code",
   "execution_count": 13,
   "metadata": {},
   "outputs": [
    {
     "data": {
      "text/plain": [
       "((4514, 3840), (4514,))"
      ]
     },
     "execution_count": 13,
     "metadata": {},
     "output_type": "execute_result"
    }
   ],
   "source": [
    "y=np.array(y.astype(int))-1\n",
    "\n",
    "X_train, X_test, y_train, y_test = train_test_split(X, y, test_size=0.3, random_state=random_seed)\n",
    "X_val, X_test, y_val, y_test = train_test_split(X_test, y_test, test_size=2/3, random_state=random_seed)\n",
    "\n",
    "np.shape(X_train),np.shape(y_train)"
   ]
  },
  {
   "cell_type": "markdown",
   "metadata": {},
   "source": [
    "### Tuning classification model"
   ]
  },
  {
   "cell_type": "markdown",
   "metadata": {},
   "source": [
    "Grid"
   ]
  },
  {
   "cell_type": "code",
   "execution_count": 14,
   "metadata": {},
   "outputs": [
    {
     "data": {
      "text/plain": [
       "(50, 8)"
      ]
     },
     "execution_count": 14,
     "metadata": {},
     "output_type": "execute_result"
    }
   ],
   "source": [
    "hyper=expand_grid(hyper_xgboost.copy(), random_seed=random_seed)\n",
    "hyper=hyper[['max_depth','learning_rate','gamma','reg_lambda', 'n_est', 'score','lower_ci','upper_ci']]\n",
    "\n",
    "np.shape(hyper)"
   ]
  },
  {
   "cell_type": "markdown",
   "metadata": {},
   "source": [
    "Search"
   ]
  },
  {
   "cell_type": "code",
   "execution_count": 15,
   "metadata": {},
   "outputs": [
    {
     "name": "stderr",
     "output_type": "stream",
     "text": [
      "100%|██████████| 50/50 [1:04:54<00:00, 77.89s/it] \n"
     ]
    }
   ],
   "source": [
    "hyper=tune_xgboost(hyper, X_train, y_train, X_val, y_val, random_seed)\n",
    "hyper.to_csv('hyper/hyper_xgboost_bert')"
   ]
  },
  {
   "cell_type": "code",
   "execution_count": 16,
   "metadata": {},
   "outputs": [
    {
     "data": {
      "text/html": [
       "<div>\n",
       "<style scoped>\n",
       "    .dataframe tbody tr th:only-of-type {\n",
       "        vertical-align: middle;\n",
       "    }\n",
       "\n",
       "    .dataframe tbody tr th {\n",
       "        vertical-align: top;\n",
       "    }\n",
       "\n",
       "    .dataframe thead th {\n",
       "        text-align: right;\n",
       "    }\n",
       "</style>\n",
       "<table border=\"1\" class=\"dataframe\">\n",
       "  <thead>\n",
       "    <tr style=\"text-align: right;\">\n",
       "      <th></th>\n",
       "      <th>max_depth</th>\n",
       "      <th>learning_rate</th>\n",
       "      <th>gamma</th>\n",
       "      <th>reg_lambda</th>\n",
       "      <th>n_est</th>\n",
       "      <th>score</th>\n",
       "      <th>lower_ci</th>\n",
       "      <th>upper_ci</th>\n",
       "    </tr>\n",
       "  </thead>\n",
       "  <tbody>\n",
       "    <tr>\n",
       "      <th>42</th>\n",
       "      <td>7</td>\n",
       "      <td>1.0</td>\n",
       "      <td>0.01000</td>\n",
       "      <td>300.0</td>\n",
       "      <td>30</td>\n",
       "      <td>0.919380</td>\n",
       "      <td>0.898369</td>\n",
       "      <td>0.940391</td>\n",
       "    </tr>\n",
       "    <tr>\n",
       "      <th>23</th>\n",
       "      <td>9</td>\n",
       "      <td>1.0</td>\n",
       "      <td>0.00000</td>\n",
       "      <td>500.0</td>\n",
       "      <td>10</td>\n",
       "      <td>0.920930</td>\n",
       "      <td>0.900105</td>\n",
       "      <td>0.941755</td>\n",
       "    </tr>\n",
       "    <tr>\n",
       "      <th>11</th>\n",
       "      <td>9</td>\n",
       "      <td>1.0</td>\n",
       "      <td>0.10000</td>\n",
       "      <td>100.0</td>\n",
       "      <td>22</td>\n",
       "      <td>0.922481</td>\n",
       "      <td>0.901843</td>\n",
       "      <td>0.943119</td>\n",
       "    </tr>\n",
       "    <tr>\n",
       "      <th>15</th>\n",
       "      <td>7</td>\n",
       "      <td>0.5</td>\n",
       "      <td>0.00010</td>\n",
       "      <td>300.0</td>\n",
       "      <td>32</td>\n",
       "      <td>0.922481</td>\n",
       "      <td>0.901843</td>\n",
       "      <td>0.943119</td>\n",
       "    </tr>\n",
       "    <tr>\n",
       "      <th>43</th>\n",
       "      <td>9</td>\n",
       "      <td>0.5</td>\n",
       "      <td>0.00010</td>\n",
       "      <td>50.0</td>\n",
       "      <td>25</td>\n",
       "      <td>0.922481</td>\n",
       "      <td>0.901843</td>\n",
       "      <td>0.943119</td>\n",
       "    </tr>\n",
       "    <tr>\n",
       "      <th>35</th>\n",
       "      <td>9</td>\n",
       "      <td>1.0</td>\n",
       "      <td>0.00000</td>\n",
       "      <td>300.0</td>\n",
       "      <td>22</td>\n",
       "      <td>0.922481</td>\n",
       "      <td>0.901843</td>\n",
       "      <td>0.943119</td>\n",
       "    </tr>\n",
       "    <tr>\n",
       "      <th>1</th>\n",
       "      <td>5</td>\n",
       "      <td>0.5</td>\n",
       "      <td>0.00001</td>\n",
       "      <td>500.0</td>\n",
       "      <td>59</td>\n",
       "      <td>0.922481</td>\n",
       "      <td>0.901843</td>\n",
       "      <td>0.943119</td>\n",
       "    </tr>\n",
       "    <tr>\n",
       "      <th>27</th>\n",
       "      <td>5</td>\n",
       "      <td>1.0</td>\n",
       "      <td>0.10000</td>\n",
       "      <td>300.0</td>\n",
       "      <td>16</td>\n",
       "      <td>0.922481</td>\n",
       "      <td>0.901843</td>\n",
       "      <td>0.943119</td>\n",
       "    </tr>\n",
       "    <tr>\n",
       "      <th>41</th>\n",
       "      <td>9</td>\n",
       "      <td>0.5</td>\n",
       "      <td>1.00000</td>\n",
       "      <td>10.0</td>\n",
       "      <td>11</td>\n",
       "      <td>0.924031</td>\n",
       "      <td>0.903584</td>\n",
       "      <td>0.944478</td>\n",
       "    </tr>\n",
       "    <tr>\n",
       "      <th>49</th>\n",
       "      <td>7</td>\n",
       "      <td>0.5</td>\n",
       "      <td>0.00010</td>\n",
       "      <td>50.0</td>\n",
       "      <td>26</td>\n",
       "      <td>0.924031</td>\n",
       "      <td>0.903584</td>\n",
       "      <td>0.944478</td>\n",
       "    </tr>\n",
       "    <tr>\n",
       "      <th>6</th>\n",
       "      <td>9</td>\n",
       "      <td>1.0</td>\n",
       "      <td>0.10000</td>\n",
       "      <td>1000.0</td>\n",
       "      <td>40</td>\n",
       "      <td>0.924031</td>\n",
       "      <td>0.903584</td>\n",
       "      <td>0.944478</td>\n",
       "    </tr>\n",
       "    <tr>\n",
       "      <th>36</th>\n",
       "      <td>9</td>\n",
       "      <td>0.5</td>\n",
       "      <td>1.00000</td>\n",
       "      <td>100.0</td>\n",
       "      <td>36</td>\n",
       "      <td>0.924031</td>\n",
       "      <td>0.903584</td>\n",
       "      <td>0.944478</td>\n",
       "    </tr>\n",
       "    <tr>\n",
       "      <th>29</th>\n",
       "      <td>9</td>\n",
       "      <td>0.5</td>\n",
       "      <td>0.00000</td>\n",
       "      <td>50.0</td>\n",
       "      <td>29</td>\n",
       "      <td>0.925581</td>\n",
       "      <td>0.905326</td>\n",
       "      <td>0.945836</td>\n",
       "    </tr>\n",
       "    <tr>\n",
       "      <th>25</th>\n",
       "      <td>5</td>\n",
       "      <td>0.5</td>\n",
       "      <td>0.00001</td>\n",
       "      <td>10.0</td>\n",
       "      <td>27</td>\n",
       "      <td>0.925581</td>\n",
       "      <td>0.905326</td>\n",
       "      <td>0.945836</td>\n",
       "    </tr>\n",
       "    <tr>\n",
       "      <th>7</th>\n",
       "      <td>7</td>\n",
       "      <td>1.0</td>\n",
       "      <td>0.00000</td>\n",
       "      <td>10.0</td>\n",
       "      <td>19</td>\n",
       "      <td>0.925581</td>\n",
       "      <td>0.905326</td>\n",
       "      <td>0.945836</td>\n",
       "    </tr>\n",
       "    <tr>\n",
       "      <th>5</th>\n",
       "      <td>9</td>\n",
       "      <td>0.5</td>\n",
       "      <td>1.00000</td>\n",
       "      <td>50.0</td>\n",
       "      <td>18</td>\n",
       "      <td>0.925581</td>\n",
       "      <td>0.905326</td>\n",
       "      <td>0.945836</td>\n",
       "    </tr>\n",
       "    <tr>\n",
       "      <th>24</th>\n",
       "      <td>5</td>\n",
       "      <td>0.5</td>\n",
       "      <td>0.00010</td>\n",
       "      <td>10.0</td>\n",
       "      <td>27</td>\n",
       "      <td>0.925581</td>\n",
       "      <td>0.905326</td>\n",
       "      <td>0.945836</td>\n",
       "    </tr>\n",
       "    <tr>\n",
       "      <th>40</th>\n",
       "      <td>7</td>\n",
       "      <td>0.5</td>\n",
       "      <td>0.01000</td>\n",
       "      <td>50.0</td>\n",
       "      <td>22</td>\n",
       "      <td>0.927132</td>\n",
       "      <td>0.907073</td>\n",
       "      <td>0.947191</td>\n",
       "    </tr>\n",
       "    <tr>\n",
       "      <th>22</th>\n",
       "      <td>5</td>\n",
       "      <td>1.0</td>\n",
       "      <td>0.00001</td>\n",
       "      <td>300.0</td>\n",
       "      <td>21</td>\n",
       "      <td>0.927132</td>\n",
       "      <td>0.907073</td>\n",
       "      <td>0.947191</td>\n",
       "    </tr>\n",
       "    <tr>\n",
       "      <th>45</th>\n",
       "      <td>5</td>\n",
       "      <td>1.0</td>\n",
       "      <td>0.01000</td>\n",
       "      <td>50.0</td>\n",
       "      <td>21</td>\n",
       "      <td>0.930233</td>\n",
       "      <td>0.910572</td>\n",
       "      <td>0.949894</td>\n",
       "    </tr>\n",
       "  </tbody>\n",
       "</table>\n",
       "</div>"
      ],
      "text/plain": [
       "    max_depth  learning_rate    gamma  reg_lambda  n_est     score  lower_ci  \\\n",
       "42          7            1.0  0.01000       300.0     30  0.919380  0.898369   \n",
       "23          9            1.0  0.00000       500.0     10  0.920930  0.900105   \n",
       "11          9            1.0  0.10000       100.0     22  0.922481  0.901843   \n",
       "15          7            0.5  0.00010       300.0     32  0.922481  0.901843   \n",
       "43          9            0.5  0.00010        50.0     25  0.922481  0.901843   \n",
       "35          9            1.0  0.00000       300.0     22  0.922481  0.901843   \n",
       "1           5            0.5  0.00001       500.0     59  0.922481  0.901843   \n",
       "27          5            1.0  0.10000       300.0     16  0.922481  0.901843   \n",
       "41          9            0.5  1.00000        10.0     11  0.924031  0.903584   \n",
       "49          7            0.5  0.00010        50.0     26  0.924031  0.903584   \n",
       "6           9            1.0  0.10000      1000.0     40  0.924031  0.903584   \n",
       "36          9            0.5  1.00000       100.0     36  0.924031  0.903584   \n",
       "29          9            0.5  0.00000        50.0     29  0.925581  0.905326   \n",
       "25          5            0.5  0.00001        10.0     27  0.925581  0.905326   \n",
       "7           7            1.0  0.00000        10.0     19  0.925581  0.905326   \n",
       "5           9            0.5  1.00000        50.0     18  0.925581  0.905326   \n",
       "24          5            0.5  0.00010        10.0     27  0.925581  0.905326   \n",
       "40          7            0.5  0.01000        50.0     22  0.927132  0.907073   \n",
       "22          5            1.0  0.00001       300.0     21  0.927132  0.907073   \n",
       "45          5            1.0  0.01000        50.0     21  0.930233  0.910572   \n",
       "\n",
       "    upper_ci  \n",
       "42  0.940391  \n",
       "23  0.941755  \n",
       "11  0.943119  \n",
       "15  0.943119  \n",
       "43  0.943119  \n",
       "35  0.943119  \n",
       "1   0.943119  \n",
       "27  0.943119  \n",
       "41  0.944478  \n",
       "49  0.944478  \n",
       "6   0.944478  \n",
       "36  0.944478  \n",
       "29  0.945836  \n",
       "25  0.945836  \n",
       "7   0.945836  \n",
       "5   0.945836  \n",
       "24  0.945836  \n",
       "40  0.947191  \n",
       "22  0.947191  \n",
       "45  0.949894  "
      ]
     },
     "execution_count": 16,
     "metadata": {},
     "output_type": "execute_result"
    }
   ],
   "source": [
    "hyper.iloc[np.argsort(hyper.loc[:,'score']),:].tail(20)"
   ]
  },
  {
   "cell_type": "markdown",
   "metadata": {},
   "source": [
    "# Doc2Vec/XGBoost"
   ]
  },
  {
   "cell_type": "markdown",
   "metadata": {},
   "source": [
    "### Getting data ready"
   ]
  },
  {
   "cell_type": "markdown",
   "metadata": {},
   "source": [
    "Loading data"
   ]
  },
  {
   "cell_type": "code",
   "execution_count": 17,
   "metadata": {
    "collapsed": true
   },
   "outputs": [],
   "source": [
    "X, y=np.load('data/X_d2v.npy'),np.load('data/y_d2v.npy')"
   ]
  },
  {
   "cell_type": "code",
   "execution_count": 18,
   "metadata": {
    "collapsed": true
   },
   "outputs": [],
   "source": [
    "X=X.reshape((X.shape[0],-1))"
   ]
  },
  {
   "cell_type": "markdown",
   "metadata": {},
   "source": [
    "Turning y into numeric:"
   ]
  },
  {
   "cell_type": "code",
   "execution_count": 19,
   "metadata": {
    "collapsed": true
   },
   "outputs": [],
   "source": [
    "encode={'H:Arquivado': 1,'H:Ativo': 2,'H:Suspenso': 3}\n",
    "decode={1:'H:Arquivado',2:'H:Ativo',3:'H:Suspenso'}\n",
    "\n",
    "for i in range(len(y)):\n",
    "    y[i]=encode[y[i]]"
   ]
  },
  {
   "cell_type": "markdown",
   "metadata": {},
   "source": [
    "Splitting the dataset in train, test and validation set:"
   ]
  },
  {
   "cell_type": "code",
   "execution_count": 20,
   "metadata": {},
   "outputs": [
    {
     "data": {
      "text/plain": [
       "((4514, 500), (4514,))"
      ]
     },
     "execution_count": 20,
     "metadata": {},
     "output_type": "execute_result"
    }
   ],
   "source": [
    "y=np.array(y.astype(int))-1\n",
    "\n",
    "X_train, X_test, y_train, y_test = train_test_split(X, y, test_size=0.3, random_state=random_seed)\n",
    "X_val, X_test, y_val, y_test = train_test_split(X_test, y_test, test_size=2/3, random_state=random_seed)\n",
    "\n",
    "np.shape(X_train),np.shape(y_train)"
   ]
  },
  {
   "cell_type": "markdown",
   "metadata": {},
   "source": [
    "### Tuning classification model"
   ]
  },
  {
   "cell_type": "markdown",
   "metadata": {},
   "source": [
    "Grid"
   ]
  },
  {
   "cell_type": "code",
   "execution_count": 21,
   "metadata": {},
   "outputs": [
    {
     "data": {
      "text/plain": [
       "(50, 8)"
      ]
     },
     "execution_count": 21,
     "metadata": {},
     "output_type": "execute_result"
    }
   ],
   "source": [
    "hyper=expand_grid(hyper_xgboost.copy(), random_seed=random_seed)\n",
    "hyper=hyper[['max_depth','learning_rate','gamma','reg_lambda', 'n_est', 'score','lower_ci','upper_ci']]\n",
    "\n",
    "np.shape(hyper)"
   ]
  },
  {
   "cell_type": "markdown",
   "metadata": {},
   "source": [
    "Search"
   ]
  },
  {
   "cell_type": "code",
   "execution_count": 22,
   "metadata": {},
   "outputs": [
    {
     "name": "stderr",
     "output_type": "stream",
     "text": [
      "100%|██████████| 50/50 [09:10<00:00, 11.02s/it]"
     ]
    },
    {
     "name": "stdout",
     "output_type": "stream",
     "text": [
      "CPU times: user 1h 12min 51s, sys: 958 ms, total: 1h 12min 52s\n",
      "Wall time: 9min 10s\n"
     ]
    },
    {
     "name": "stderr",
     "output_type": "stream",
     "text": [
      "\n"
     ]
    }
   ],
   "source": [
    "%%time\n",
    "hyper=tune_xgboost(hyper, X_train, y_train, X_val, y_val, random_seed)\n",
    "hyper.to_csv('hyper/hyper_xgboost_d2v')"
   ]
  },
  {
   "cell_type": "code",
   "execution_count": 23,
   "metadata": {},
   "outputs": [
    {
     "data": {
      "text/html": [
       "<div>\n",
       "<style scoped>\n",
       "    .dataframe tbody tr th:only-of-type {\n",
       "        vertical-align: middle;\n",
       "    }\n",
       "\n",
       "    .dataframe tbody tr th {\n",
       "        vertical-align: top;\n",
       "    }\n",
       "\n",
       "    .dataframe thead th {\n",
       "        text-align: right;\n",
       "    }\n",
       "</style>\n",
       "<table border=\"1\" class=\"dataframe\">\n",
       "  <thead>\n",
       "    <tr style=\"text-align: right;\">\n",
       "      <th></th>\n",
       "      <th>max_depth</th>\n",
       "      <th>learning_rate</th>\n",
       "      <th>gamma</th>\n",
       "      <th>reg_lambda</th>\n",
       "      <th>n_est</th>\n",
       "      <th>score</th>\n",
       "      <th>lower_ci</th>\n",
       "      <th>upper_ci</th>\n",
       "    </tr>\n",
       "  </thead>\n",
       "  <tbody>\n",
       "    <tr>\n",
       "      <th>5</th>\n",
       "      <td>9</td>\n",
       "      <td>0.5</td>\n",
       "      <td>1.00000</td>\n",
       "      <td>50.0</td>\n",
       "      <td>44</td>\n",
       "      <td>0.874419</td>\n",
       "      <td>0.848845</td>\n",
       "      <td>0.899993</td>\n",
       "    </tr>\n",
       "    <tr>\n",
       "      <th>11</th>\n",
       "      <td>9</td>\n",
       "      <td>1.0</td>\n",
       "      <td>0.10000</td>\n",
       "      <td>100.0</td>\n",
       "      <td>16</td>\n",
       "      <td>0.877519</td>\n",
       "      <td>0.852218</td>\n",
       "      <td>0.902820</td>\n",
       "    </tr>\n",
       "    <tr>\n",
       "      <th>27</th>\n",
       "      <td>5</td>\n",
       "      <td>1.0</td>\n",
       "      <td>0.10000</td>\n",
       "      <td>300.0</td>\n",
       "      <td>16</td>\n",
       "      <td>0.877519</td>\n",
       "      <td>0.852218</td>\n",
       "      <td>0.902820</td>\n",
       "    </tr>\n",
       "    <tr>\n",
       "      <th>12</th>\n",
       "      <td>5</td>\n",
       "      <td>0.1</td>\n",
       "      <td>0.00000</td>\n",
       "      <td>50.0</td>\n",
       "      <td>89</td>\n",
       "      <td>0.877519</td>\n",
       "      <td>0.852218</td>\n",
       "      <td>0.902820</td>\n",
       "    </tr>\n",
       "    <tr>\n",
       "      <th>7</th>\n",
       "      <td>7</td>\n",
       "      <td>1.0</td>\n",
       "      <td>0.00000</td>\n",
       "      <td>10.0</td>\n",
       "      <td>37</td>\n",
       "      <td>0.877519</td>\n",
       "      <td>0.852218</td>\n",
       "      <td>0.902820</td>\n",
       "    </tr>\n",
       "    <tr>\n",
       "      <th>35</th>\n",
       "      <td>9</td>\n",
       "      <td>1.0</td>\n",
       "      <td>0.00000</td>\n",
       "      <td>300.0</td>\n",
       "      <td>27</td>\n",
       "      <td>0.879070</td>\n",
       "      <td>0.853907</td>\n",
       "      <td>0.904233</td>\n",
       "    </tr>\n",
       "    <tr>\n",
       "      <th>19</th>\n",
       "      <td>3</td>\n",
       "      <td>0.5</td>\n",
       "      <td>0.10000</td>\n",
       "      <td>50.0</td>\n",
       "      <td>44</td>\n",
       "      <td>0.879070</td>\n",
       "      <td>0.853907</td>\n",
       "      <td>0.904233</td>\n",
       "    </tr>\n",
       "    <tr>\n",
       "      <th>9</th>\n",
       "      <td>5</td>\n",
       "      <td>0.1</td>\n",
       "      <td>0.10000</td>\n",
       "      <td>50.0</td>\n",
       "      <td>94</td>\n",
       "      <td>0.879070</td>\n",
       "      <td>0.853907</td>\n",
       "      <td>0.904233</td>\n",
       "    </tr>\n",
       "    <tr>\n",
       "      <th>22</th>\n",
       "      <td>5</td>\n",
       "      <td>1.0</td>\n",
       "      <td>0.00001</td>\n",
       "      <td>300.0</td>\n",
       "      <td>38</td>\n",
       "      <td>0.882171</td>\n",
       "      <td>0.857289</td>\n",
       "      <td>0.907053</td>\n",
       "    </tr>\n",
       "    <tr>\n",
       "      <th>6</th>\n",
       "      <td>9</td>\n",
       "      <td>1.0</td>\n",
       "      <td>0.10000</td>\n",
       "      <td>1000.0</td>\n",
       "      <td>82</td>\n",
       "      <td>0.882171</td>\n",
       "      <td>0.857289</td>\n",
       "      <td>0.907053</td>\n",
       "    </tr>\n",
       "    <tr>\n",
       "      <th>1</th>\n",
       "      <td>5</td>\n",
       "      <td>0.5</td>\n",
       "      <td>0.00001</td>\n",
       "      <td>500.0</td>\n",
       "      <td>100</td>\n",
       "      <td>0.883721</td>\n",
       "      <td>0.858982</td>\n",
       "      <td>0.908460</td>\n",
       "    </tr>\n",
       "    <tr>\n",
       "      <th>10</th>\n",
       "      <td>3</td>\n",
       "      <td>1.0</td>\n",
       "      <td>0.10000</td>\n",
       "      <td>1000.0</td>\n",
       "      <td>84</td>\n",
       "      <td>0.883721</td>\n",
       "      <td>0.858982</td>\n",
       "      <td>0.908460</td>\n",
       "    </tr>\n",
       "    <tr>\n",
       "      <th>24</th>\n",
       "      <td>5</td>\n",
       "      <td>0.5</td>\n",
       "      <td>0.00010</td>\n",
       "      <td>10.0</td>\n",
       "      <td>42</td>\n",
       "      <td>0.886822</td>\n",
       "      <td>0.862372</td>\n",
       "      <td>0.911272</td>\n",
       "    </tr>\n",
       "    <tr>\n",
       "      <th>28</th>\n",
       "      <td>9</td>\n",
       "      <td>0.1</td>\n",
       "      <td>0.00000</td>\n",
       "      <td>100.0</td>\n",
       "      <td>108</td>\n",
       "      <td>0.886822</td>\n",
       "      <td>0.862372</td>\n",
       "      <td>0.911272</td>\n",
       "    </tr>\n",
       "    <tr>\n",
       "      <th>25</th>\n",
       "      <td>5</td>\n",
       "      <td>0.5</td>\n",
       "      <td>0.00001</td>\n",
       "      <td>10.0</td>\n",
       "      <td>42</td>\n",
       "      <td>0.886822</td>\n",
       "      <td>0.862372</td>\n",
       "      <td>0.911272</td>\n",
       "    </tr>\n",
       "    <tr>\n",
       "      <th>15</th>\n",
       "      <td>7</td>\n",
       "      <td>0.5</td>\n",
       "      <td>0.00010</td>\n",
       "      <td>300.0</td>\n",
       "      <td>51</td>\n",
       "      <td>0.888372</td>\n",
       "      <td>0.864069</td>\n",
       "      <td>0.912675</td>\n",
       "    </tr>\n",
       "    <tr>\n",
       "      <th>30</th>\n",
       "      <td>7</td>\n",
       "      <td>0.1</td>\n",
       "      <td>0.00010</td>\n",
       "      <td>100.0</td>\n",
       "      <td>93</td>\n",
       "      <td>0.888372</td>\n",
       "      <td>0.864069</td>\n",
       "      <td>0.912675</td>\n",
       "    </tr>\n",
       "    <tr>\n",
       "      <th>45</th>\n",
       "      <td>5</td>\n",
       "      <td>1.0</td>\n",
       "      <td>0.01000</td>\n",
       "      <td>50.0</td>\n",
       "      <td>55</td>\n",
       "      <td>0.891473</td>\n",
       "      <td>0.867468</td>\n",
       "      <td>0.915478</td>\n",
       "    </tr>\n",
       "    <tr>\n",
       "      <th>32</th>\n",
       "      <td>5</td>\n",
       "      <td>0.5</td>\n",
       "      <td>0.10000</td>\n",
       "      <td>500.0</td>\n",
       "      <td>116</td>\n",
       "      <td>0.891473</td>\n",
       "      <td>0.867468</td>\n",
       "      <td>0.915478</td>\n",
       "    </tr>\n",
       "    <tr>\n",
       "      <th>42</th>\n",
       "      <td>7</td>\n",
       "      <td>1.0</td>\n",
       "      <td>0.01000</td>\n",
       "      <td>300.0</td>\n",
       "      <td>46</td>\n",
       "      <td>0.894574</td>\n",
       "      <td>0.870873</td>\n",
       "      <td>0.918275</td>\n",
       "    </tr>\n",
       "  </tbody>\n",
       "</table>\n",
       "</div>"
      ],
      "text/plain": [
       "    max_depth  learning_rate    gamma  reg_lambda  n_est     score  lower_ci  \\\n",
       "5           9            0.5  1.00000        50.0     44  0.874419  0.848845   \n",
       "11          9            1.0  0.10000       100.0     16  0.877519  0.852218   \n",
       "27          5            1.0  0.10000       300.0     16  0.877519  0.852218   \n",
       "12          5            0.1  0.00000        50.0     89  0.877519  0.852218   \n",
       "7           7            1.0  0.00000        10.0     37  0.877519  0.852218   \n",
       "35          9            1.0  0.00000       300.0     27  0.879070  0.853907   \n",
       "19          3            0.5  0.10000        50.0     44  0.879070  0.853907   \n",
       "9           5            0.1  0.10000        50.0     94  0.879070  0.853907   \n",
       "22          5            1.0  0.00001       300.0     38  0.882171  0.857289   \n",
       "6           9            1.0  0.10000      1000.0     82  0.882171  0.857289   \n",
       "1           5            0.5  0.00001       500.0    100  0.883721  0.858982   \n",
       "10          3            1.0  0.10000      1000.0     84  0.883721  0.858982   \n",
       "24          5            0.5  0.00010        10.0     42  0.886822  0.862372   \n",
       "28          9            0.1  0.00000       100.0    108  0.886822  0.862372   \n",
       "25          5            0.5  0.00001        10.0     42  0.886822  0.862372   \n",
       "15          7            0.5  0.00010       300.0     51  0.888372  0.864069   \n",
       "30          7            0.1  0.00010       100.0     93  0.888372  0.864069   \n",
       "45          5            1.0  0.01000        50.0     55  0.891473  0.867468   \n",
       "32          5            0.5  0.10000       500.0    116  0.891473  0.867468   \n",
       "42          7            1.0  0.01000       300.0     46  0.894574  0.870873   \n",
       "\n",
       "    upper_ci  \n",
       "5   0.899993  \n",
       "11  0.902820  \n",
       "27  0.902820  \n",
       "12  0.902820  \n",
       "7   0.902820  \n",
       "35  0.904233  \n",
       "19  0.904233  \n",
       "9   0.904233  \n",
       "22  0.907053  \n",
       "6   0.907053  \n",
       "1   0.908460  \n",
       "10  0.908460  \n",
       "24  0.911272  \n",
       "28  0.911272  \n",
       "25  0.911272  \n",
       "15  0.912675  \n",
       "30  0.912675  \n",
       "45  0.915478  \n",
       "32  0.915478  \n",
       "42  0.918275  "
      ]
     },
     "execution_count": 23,
     "metadata": {},
     "output_type": "execute_result"
    }
   ],
   "source": [
    "hyper.iloc[np.argsort(hyper.loc[:,'score']),:].tail(20)"
   ]
  },
  {
   "cell_type": "markdown",
   "metadata": {},
   "source": [
    "# TFIDF/XGBoost"
   ]
  },
  {
   "cell_type": "markdown",
   "metadata": {},
   "source": [
    "### Getting data ready"
   ]
  },
  {
   "cell_type": "markdown",
   "metadata": {},
   "source": [
    "Loading data:"
   ]
  },
  {
   "cell_type": "code",
   "execution_count": 24,
   "metadata": {
    "collapsed": true
   },
   "outputs": [],
   "source": [
    "X, y=np.load('data/X_tfidf.npy'),np.load('data/y_tfidf.npy')"
   ]
  },
  {
   "cell_type": "code",
   "execution_count": 25,
   "metadata": {
    "collapsed": true
   },
   "outputs": [],
   "source": [
    "X=X.reshape((X.shape[0],-1))"
   ]
  },
  {
   "cell_type": "markdown",
   "metadata": {},
   "source": [
    "Turning y into numeric:"
   ]
  },
  {
   "cell_type": "code",
   "execution_count": 26,
   "metadata": {
    "collapsed": true
   },
   "outputs": [],
   "source": [
    "encode={'H:Arquivado': 1,'H:Ativo': 2,'H:Suspenso': 3}\n",
    "decode={1:'H:Arquivado',2:'H:Ativo',3:'H:Suspenso'}\n",
    "\n",
    "for i in range(len(y)):\n",
    "    y[i]=encode[y[i]]"
   ]
  },
  {
   "cell_type": "markdown",
   "metadata": {},
   "source": [
    "Splitting the dataset in train, test and validation set:"
   ]
  },
  {
   "cell_type": "code",
   "execution_count": 27,
   "metadata": {},
   "outputs": [
    {
     "data": {
      "text/plain": [
       "((4514, 20000), (4514,))"
      ]
     },
     "execution_count": 27,
     "metadata": {},
     "output_type": "execute_result"
    }
   ],
   "source": [
    "y=np.array(y.astype(int))-1\n",
    "\n",
    "X_train, X_test, y_train, y_test = train_test_split(X, y, test_size=0.3, random_state=random_seed)\n",
    "X_val, X_test, y_val, y_test = train_test_split(X_test, y_test, test_size=2/3, random_state=random_seed)\n",
    "\n",
    "np.shape(X_train),np.shape(y_train)"
   ]
  },
  {
   "cell_type": "markdown",
   "metadata": {},
   "source": [
    "### Tuning classification model"
   ]
  },
  {
   "cell_type": "markdown",
   "metadata": {},
   "source": [
    "Grid"
   ]
  },
  {
   "cell_type": "code",
   "execution_count": 28,
   "metadata": {},
   "outputs": [
    {
     "data": {
      "text/plain": [
       "(50, 8)"
      ]
     },
     "execution_count": 28,
     "metadata": {},
     "output_type": "execute_result"
    }
   ],
   "source": [
    "hyper=expand_grid(hyper_xgboost.copy(), random_seed=random_seed)\n",
    "hyper=hyper[['max_depth','learning_rate','gamma','reg_lambda', 'n_est', 'score','lower_ci','upper_ci']]\n",
    "\n",
    "np.shape(hyper)"
   ]
  },
  {
   "cell_type": "markdown",
   "metadata": {},
   "source": [
    "Search"
   ]
  },
  {
   "cell_type": "code",
   "execution_count": 29,
   "metadata": {},
   "outputs": [
    {
     "name": "stderr",
     "output_type": "stream",
     "text": [
      "100%|██████████| 50/50 [1:28:35<00:00, 106.31s/it]"
     ]
    },
    {
     "name": "stdout",
     "output_type": "stream",
     "text": [
      "CPU times: user 11h 35min 49s, sys: 40.7 s, total: 11h 36min 30s\n",
      "Wall time: 1h 28min 35s\n"
     ]
    },
    {
     "name": "stderr",
     "output_type": "stream",
     "text": [
      "\n"
     ]
    }
   ],
   "source": [
    "%%time\n",
    "hyper=tune_xgboost(hyper, X_train, y_train, X_val, y_val, random_seed)\n",
    "hyper.to_csv('hyper/hyper_xgboost_tfidf')"
   ]
  },
  {
   "cell_type": "code",
   "execution_count": 30,
   "metadata": {
    "scrolled": true
   },
   "outputs": [
    {
     "data": {
      "text/html": [
       "<div>\n",
       "<style scoped>\n",
       "    .dataframe tbody tr th:only-of-type {\n",
       "        vertical-align: middle;\n",
       "    }\n",
       "\n",
       "    .dataframe tbody tr th {\n",
       "        vertical-align: top;\n",
       "    }\n",
       "\n",
       "    .dataframe thead th {\n",
       "        text-align: right;\n",
       "    }\n",
       "</style>\n",
       "<table border=\"1\" class=\"dataframe\">\n",
       "  <thead>\n",
       "    <tr style=\"text-align: right;\">\n",
       "      <th></th>\n",
       "      <th>max_depth</th>\n",
       "      <th>learning_rate</th>\n",
       "      <th>gamma</th>\n",
       "      <th>reg_lambda</th>\n",
       "      <th>n_est</th>\n",
       "      <th>score</th>\n",
       "      <th>lower_ci</th>\n",
       "      <th>upper_ci</th>\n",
       "    </tr>\n",
       "  </thead>\n",
       "  <tbody>\n",
       "    <tr>\n",
       "      <th>36</th>\n",
       "      <td>9</td>\n",
       "      <td>0.5</td>\n",
       "      <td>1.00000</td>\n",
       "      <td>100.0</td>\n",
       "      <td>15</td>\n",
       "      <td>0.906977</td>\n",
       "      <td>0.884560</td>\n",
       "      <td>0.929394</td>\n",
       "    </tr>\n",
       "    <tr>\n",
       "      <th>5</th>\n",
       "      <td>9</td>\n",
       "      <td>0.5</td>\n",
       "      <td>1.00000</td>\n",
       "      <td>50.0</td>\n",
       "      <td>14</td>\n",
       "      <td>0.908527</td>\n",
       "      <td>0.886279</td>\n",
       "      <td>0.930775</td>\n",
       "    </tr>\n",
       "    <tr>\n",
       "      <th>38</th>\n",
       "      <td>7</td>\n",
       "      <td>0.1</td>\n",
       "      <td>0.10000</td>\n",
       "      <td>10.0</td>\n",
       "      <td>50</td>\n",
       "      <td>0.908527</td>\n",
       "      <td>0.886279</td>\n",
       "      <td>0.930775</td>\n",
       "    </tr>\n",
       "    <tr>\n",
       "      <th>22</th>\n",
       "      <td>5</td>\n",
       "      <td>1.0</td>\n",
       "      <td>0.00001</td>\n",
       "      <td>300.0</td>\n",
       "      <td>53</td>\n",
       "      <td>0.911628</td>\n",
       "      <td>0.889723</td>\n",
       "      <td>0.933533</td>\n",
       "    </tr>\n",
       "    <tr>\n",
       "      <th>19</th>\n",
       "      <td>3</td>\n",
       "      <td>0.5</td>\n",
       "      <td>0.10000</td>\n",
       "      <td>50.0</td>\n",
       "      <td>52</td>\n",
       "      <td>0.911628</td>\n",
       "      <td>0.889723</td>\n",
       "      <td>0.933533</td>\n",
       "    </tr>\n",
       "    <tr>\n",
       "      <th>45</th>\n",
       "      <td>5</td>\n",
       "      <td>1.0</td>\n",
       "      <td>0.01000</td>\n",
       "      <td>50.0</td>\n",
       "      <td>21</td>\n",
       "      <td>0.911628</td>\n",
       "      <td>0.889723</td>\n",
       "      <td>0.933533</td>\n",
       "    </tr>\n",
       "    <tr>\n",
       "      <th>27</th>\n",
       "      <td>5</td>\n",
       "      <td>1.0</td>\n",
       "      <td>0.10000</td>\n",
       "      <td>300.0</td>\n",
       "      <td>52</td>\n",
       "      <td>0.911628</td>\n",
       "      <td>0.889723</td>\n",
       "      <td>0.933533</td>\n",
       "    </tr>\n",
       "    <tr>\n",
       "      <th>43</th>\n",
       "      <td>9</td>\n",
       "      <td>0.5</td>\n",
       "      <td>0.00010</td>\n",
       "      <td>50.0</td>\n",
       "      <td>36</td>\n",
       "      <td>0.914729</td>\n",
       "      <td>0.893175</td>\n",
       "      <td>0.936283</td>\n",
       "    </tr>\n",
       "    <tr>\n",
       "      <th>2</th>\n",
       "      <td>9</td>\n",
       "      <td>1.0</td>\n",
       "      <td>0.00010</td>\n",
       "      <td>50.0</td>\n",
       "      <td>18</td>\n",
       "      <td>0.914729</td>\n",
       "      <td>0.893175</td>\n",
       "      <td>0.936283</td>\n",
       "    </tr>\n",
       "    <tr>\n",
       "      <th>29</th>\n",
       "      <td>9</td>\n",
       "      <td>0.5</td>\n",
       "      <td>0.00000</td>\n",
       "      <td>50.0</td>\n",
       "      <td>34</td>\n",
       "      <td>0.916279</td>\n",
       "      <td>0.894904</td>\n",
       "      <td>0.937654</td>\n",
       "    </tr>\n",
       "    <tr>\n",
       "      <th>40</th>\n",
       "      <td>7</td>\n",
       "      <td>0.5</td>\n",
       "      <td>0.01000</td>\n",
       "      <td>50.0</td>\n",
       "      <td>46</td>\n",
       "      <td>0.916279</td>\n",
       "      <td>0.894904</td>\n",
       "      <td>0.937654</td>\n",
       "    </tr>\n",
       "    <tr>\n",
       "      <th>49</th>\n",
       "      <td>7</td>\n",
       "      <td>0.5</td>\n",
       "      <td>0.00010</td>\n",
       "      <td>50.0</td>\n",
       "      <td>54</td>\n",
       "      <td>0.917829</td>\n",
       "      <td>0.896635</td>\n",
       "      <td>0.939023</td>\n",
       "    </tr>\n",
       "    <tr>\n",
       "      <th>35</th>\n",
       "      <td>9</td>\n",
       "      <td>1.0</td>\n",
       "      <td>0.00000</td>\n",
       "      <td>300.0</td>\n",
       "      <td>51</td>\n",
       "      <td>0.917829</td>\n",
       "      <td>0.896635</td>\n",
       "      <td>0.939023</td>\n",
       "    </tr>\n",
       "    <tr>\n",
       "      <th>42</th>\n",
       "      <td>7</td>\n",
       "      <td>1.0</td>\n",
       "      <td>0.01000</td>\n",
       "      <td>300.0</td>\n",
       "      <td>73</td>\n",
       "      <td>0.919380</td>\n",
       "      <td>0.898369</td>\n",
       "      <td>0.940391</td>\n",
       "    </tr>\n",
       "    <tr>\n",
       "      <th>7</th>\n",
       "      <td>7</td>\n",
       "      <td>1.0</td>\n",
       "      <td>0.00000</td>\n",
       "      <td>10.0</td>\n",
       "      <td>18</td>\n",
       "      <td>0.919380</td>\n",
       "      <td>0.898369</td>\n",
       "      <td>0.940391</td>\n",
       "    </tr>\n",
       "    <tr>\n",
       "      <th>41</th>\n",
       "      <td>9</td>\n",
       "      <td>0.5</td>\n",
       "      <td>1.00000</td>\n",
       "      <td>10.0</td>\n",
       "      <td>37</td>\n",
       "      <td>0.919380</td>\n",
       "      <td>0.898369</td>\n",
       "      <td>0.940391</td>\n",
       "    </tr>\n",
       "    <tr>\n",
       "      <th>25</th>\n",
       "      <td>5</td>\n",
       "      <td>0.5</td>\n",
       "      <td>0.00001</td>\n",
       "      <td>10.0</td>\n",
       "      <td>41</td>\n",
       "      <td>0.922481</td>\n",
       "      <td>0.901843</td>\n",
       "      <td>0.943119</td>\n",
       "    </tr>\n",
       "    <tr>\n",
       "      <th>11</th>\n",
       "      <td>9</td>\n",
       "      <td>1.0</td>\n",
       "      <td>0.10000</td>\n",
       "      <td>100.0</td>\n",
       "      <td>43</td>\n",
       "      <td>0.922481</td>\n",
       "      <td>0.901843</td>\n",
       "      <td>0.943119</td>\n",
       "    </tr>\n",
       "    <tr>\n",
       "      <th>3</th>\n",
       "      <td>5</td>\n",
       "      <td>1.0</td>\n",
       "      <td>0.00010</td>\n",
       "      <td>10.0</td>\n",
       "      <td>27</td>\n",
       "      <td>0.922481</td>\n",
       "      <td>0.901843</td>\n",
       "      <td>0.943119</td>\n",
       "    </tr>\n",
       "    <tr>\n",
       "      <th>24</th>\n",
       "      <td>5</td>\n",
       "      <td>0.5</td>\n",
       "      <td>0.00010</td>\n",
       "      <td>10.0</td>\n",
       "      <td>41</td>\n",
       "      <td>0.922481</td>\n",
       "      <td>0.901843</td>\n",
       "      <td>0.943119</td>\n",
       "    </tr>\n",
       "  </tbody>\n",
       "</table>\n",
       "</div>"
      ],
      "text/plain": [
       "    max_depth  learning_rate    gamma  reg_lambda  n_est     score  lower_ci  \\\n",
       "36          9            0.5  1.00000       100.0     15  0.906977  0.884560   \n",
       "5           9            0.5  1.00000        50.0     14  0.908527  0.886279   \n",
       "38          7            0.1  0.10000        10.0     50  0.908527  0.886279   \n",
       "22          5            1.0  0.00001       300.0     53  0.911628  0.889723   \n",
       "19          3            0.5  0.10000        50.0     52  0.911628  0.889723   \n",
       "45          5            1.0  0.01000        50.0     21  0.911628  0.889723   \n",
       "27          5            1.0  0.10000       300.0     52  0.911628  0.889723   \n",
       "43          9            0.5  0.00010        50.0     36  0.914729  0.893175   \n",
       "2           9            1.0  0.00010        50.0     18  0.914729  0.893175   \n",
       "29          9            0.5  0.00000        50.0     34  0.916279  0.894904   \n",
       "40          7            0.5  0.01000        50.0     46  0.916279  0.894904   \n",
       "49          7            0.5  0.00010        50.0     54  0.917829  0.896635   \n",
       "35          9            1.0  0.00000       300.0     51  0.917829  0.896635   \n",
       "42          7            1.0  0.01000       300.0     73  0.919380  0.898369   \n",
       "7           7            1.0  0.00000        10.0     18  0.919380  0.898369   \n",
       "41          9            0.5  1.00000        10.0     37  0.919380  0.898369   \n",
       "25          5            0.5  0.00001        10.0     41  0.922481  0.901843   \n",
       "11          9            1.0  0.10000       100.0     43  0.922481  0.901843   \n",
       "3           5            1.0  0.00010        10.0     27  0.922481  0.901843   \n",
       "24          5            0.5  0.00010        10.0     41  0.922481  0.901843   \n",
       "\n",
       "    upper_ci  \n",
       "36  0.929394  \n",
       "5   0.930775  \n",
       "38  0.930775  \n",
       "22  0.933533  \n",
       "19  0.933533  \n",
       "45  0.933533  \n",
       "27  0.933533  \n",
       "43  0.936283  \n",
       "2   0.936283  \n",
       "29  0.937654  \n",
       "40  0.937654  \n",
       "49  0.939023  \n",
       "35  0.939023  \n",
       "42  0.940391  \n",
       "7   0.940391  \n",
       "41  0.940391  \n",
       "25  0.943119  \n",
       "11  0.943119  \n",
       "3   0.943119  \n",
       "24  0.943119  "
      ]
     },
     "execution_count": 30,
     "metadata": {},
     "output_type": "execute_result"
    }
   ],
   "source": [
    "hyper.iloc[np.argsort(hyper.loc[:,'score']),:].tail(20)"
   ]
  }
 ],
 "metadata": {
  "kernelspec": {
   "display_name": "Python 3",
   "language": "python",
   "name": "python3"
  },
  "language_info": {
   "codemirror_mode": {
    "name": "ipython",
    "version": 3
   },
   "file_extension": ".py",
   "mimetype": "text/x-python",
   "name": "python",
   "nbconvert_exporter": "python",
   "pygments_lexer": "ipython3",
   "version": "3.5.2"
  }
 },
 "nbformat": 4,
 "nbformat_minor": 2
}
