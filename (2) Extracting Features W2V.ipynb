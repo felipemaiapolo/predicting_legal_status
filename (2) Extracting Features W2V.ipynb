{
 "cells": [
  {
   "cell_type": "markdown",
   "metadata": {},
   "source": [
    "# Extracting Features W2V"
   ]
  },
  {
   "cell_type": "markdown",
   "metadata": {},
   "source": [
    "### Setup"
   ]
  },
  {
   "cell_type": "code",
   "execution_count": 1,
   "metadata": {},
   "outputs": [],
   "source": [
    "%run -i 'random_state.py'\n",
    "from packages import *\n",
    "from clean_functions import *\n",
    "from tokenizer import *"
   ]
  },
  {
   "cell_type": "markdown",
   "metadata": {},
   "source": [
    "### Loading W2V model"
   ]
  },
  {
   "cell_type": "code",
   "execution_count": 2,
   "metadata": {},
   "outputs": [
    {
     "data": {
      "text/plain": [
       "100"
      ]
     },
     "execution_count": 2,
     "metadata": {},
     "output_type": "execute_result"
    }
   ],
   "source": [
    "word = KeyedVectors.load(\"models/doc2vec_mov_100_10\")\n",
    "embed_dim=np.shape(word['juiz'])[0]\n",
    "embed_dim"
   ]
  },
  {
   "cell_type": "markdown",
   "metadata": {},
   "source": [
    "Vocab:"
   ]
  },
  {
   "cell_type": "code",
   "execution_count": 3,
   "metadata": {},
   "outputs": [],
   "source": [
    "word_vectors = word.wv"
   ]
  },
  {
   "cell_type": "markdown",
   "metadata": {},
   "source": [
    "### Preparing datasets"
   ]
  },
  {
   "cell_type": "code",
   "execution_count": 4,
   "metadata": {},
   "outputs": [],
   "source": [
    "with open(\"data/mov.txt\", \"rb\") as fp:   # Legal proceedings\n",
    "    mov = pickle.load(fp)\n",
    "\n",
    "with open(\"data/tags.txt\", \"rb\") as fp:   # Tags\n",
    "    tags = pickle.load(fp)"
   ]
  },
  {
   "cell_type": "markdown",
   "metadata": {},
   "source": [
    "Letting motions in cronological order:"
   ]
  },
  {
   "cell_type": "code",
   "execution_count": 5,
   "metadata": {},
   "outputs": [
    {
     "data": {
      "text/plain": [
       "[['14-11-2018',\n",
       "  'Tipo do Movimento:Ato Ordinatório Praticado Descrição:Certifico e dou fé que as custas pendentes de fls 685 não foram recolhidas pelas parte GILMAR RODRIGUES REGO e BRUNO MEDEIROS.'],\n",
       " ['23-07-2018',\n",
       "  'Tipo do Movimento:Juntada - Petição Descrição da juntada:Documento eletrônico juntado de forma automática.'],\n",
       " ['16-07-2018',\n",
       "  'Tipo do Movimento:Publicado\\xa0 Atos da Serventia Folhas do DJERJ.:388/416'],\n",
       " ['29-06-2018', 'Tipo do Movimento:Enviado para publicação ']]"
      ]
     },
     "execution_count": 5,
     "metadata": {},
     "output_type": "execute_result"
    }
   ],
   "source": [
    "mov[0][:4]"
   ]
  },
  {
   "cell_type": "code",
   "execution_count": 6,
   "metadata": {},
   "outputs": [],
   "source": [
    "for m in mov:\n",
    "    m.reverse()"
   ]
  },
  {
   "cell_type": "code",
   "execution_count": 7,
   "metadata": {},
   "outputs": [
    {
     "data": {
      "text/plain": [
       "[['10-09-2010',\n",
       "  'Tipo do Movimento:Distribuição Sorteio Serventia:Cartório da 34ª Vara Cível - 34ª Vara Cível'],\n",
       " ['21-09-2010',\n",
       "  'Tipo do Movimento:Conclusão ao Juiz Juiz:JOAO MARCOS DE CASTELLO BRANCO FANTINATO'],\n",
       " ['23-09-2010',\n",
       "  'Tipo do Movimento:Despacho - Proferido despacho de mero expediente Descrição:Defiro JG. \\r\\n\\r\\nIndefiro a antecipação dos efeitos da tutela, eis que as alegações do autor carecem de dilação probatória.\\r\\n\\r\\nCite-se.'],\n",
       " ['23-09-2010', 'Tipo do Movimento:Enviado para publicação ']]"
      ]
     },
     "execution_count": 7,
     "metadata": {},
     "output_type": "execute_result"
    }
   ],
   "source": [
    "mov[0][:4]"
   ]
  },
  {
   "cell_type": "markdown",
   "metadata": {},
   "source": [
    "Cleaning texts"
   ]
  },
  {
   "cell_type": "code",
   "execution_count": 8,
   "metadata": {},
   "outputs": [
    {
     "name": "stdout",
     "output_type": "stream",
     "text": [
      "CPU times: user 49.9 s, sys: 54.9 ms, total: 49.9 s\n",
      "Wall time: 49.9 s\n"
     ]
    }
   ],
   "source": [
    "%%time\n",
    "\n",
    "for i in range(len(mov)):\n",
    "    for j in range(len(mov[i])):\n",
    "        mov[i][j][1]=clean(mov[i][j][1])"
   ]
  },
  {
   "cell_type": "markdown",
   "metadata": {},
   "source": [
    "### Defining some functions"
   ]
  },
  {
   "cell_type": "code",
   "execution_count": 9,
   "metadata": {},
   "outputs": [],
   "source": [
    "#Embedding function\n",
    "def emb(s):\n",
    "    return(word[s]/np.sqrt(word[s]@word[s]))\n",
    "\n",
    "#Transform a sequence of tokens to the matrix form, \n",
    "#where each line is given by an embedded token\n",
    "def tokens2matrix(tokens):\n",
    "    matrix=[]\n",
    "    for s in tokens: \n",
    "        if (s in word_vectors.vocab): #in vocab \n",
    "            matrix.append(list(emb(s)))\n",
    "        else: pass\n",
    "    return(np.array(matrix))\n",
    "\n",
    "#function that checks if in a given text there is at least one word in the vocabulary\n",
    "def in_vocab(texto):\n",
    "    for s in tokenizer(texto):\n",
    "        if (s in word_vectors.vocab): return(True)\n",
    "        else: pass\n",
    "    return(False)\n",
    "\n",
    "#function that will help us get the X and y bases used for learning\n",
    "def get_X_y_w2v(mov,tags,len1=5,len2=30):\n",
    "    \n",
    "    #len1: let's take the last len1 motions in each proceeding\n",
    "    #len2: let's take the first len2 tokens in each motion\n",
    "    \n",
    "    #indexes of valid legal proceedings (with motions and tags)\n",
    "    index=[]\n",
    "    for i in range(len(mov)):\n",
    "        if 0<len(mov[i]) and tags[i]!=\"\": index.append(i) \n",
    "        else: pass\n",
    "\n",
    "    print(\"Number of valid proceedings (with motions and tags):\",len(index),\"\\n\")\n",
    "\n",
    "    #organizing motions in X and tags in y\n",
    "    X=np.zeros((len(index),len1,len2,embed_dim))\n",
    "    y=[]\n",
    "    cont=0\n",
    "    \n",
    "    #get numerical X embedding the tokens from those motions (from valid proceedings):\n",
    "    for i in index:\n",
    "        temp=[]\n",
    "        y.append(tags[i])\n",
    "\n",
    "        mov[i]=mov[i][-len1::] #let's take the last len1 motions in each proceeding\n",
    "\n",
    "        for j in range(len(mov[i])):\n",
    "\n",
    "            if in_vocab(mov[i][j][1]):  #if there is at least one word in the vocabulary\n",
    "                temp=tokens2matrix(tokenizer(mov[i][j][1])[:len2]) #let's take the first len2 tokens in each motion and turn them into a matrix l2x100\n",
    "                X[cont][j][:np.shape(temp)[0]]=temp\n",
    "            else: pass\n",
    "\n",
    "\n",
    "        #counter\n",
    "        cont+=1\n",
    "        if cont%int(len(index)/5)==0: print(round(100*cont/len(index),0),\"% concluded\")\n",
    "        else: pass\n",
    "        \n",
    "    return X,y"
   ]
  },
  {
   "cell_type": "markdown",
   "metadata": {},
   "source": [
    "### Exploring data"
   ]
  },
  {
   "cell_type": "markdown",
   "metadata": {},
   "source": [
    "Let's evaluate the distribution of motion quantities per proceeding."
   ]
  },
  {
   "cell_type": "code",
   "execution_count": 10,
   "metadata": {},
   "outputs": [
    {
     "name": "stdout",
     "output_type": "stream",
     "text": [
      "CPU times: user 3.23 ms, sys: 0 ns, total: 3.23 ms\n",
      "Wall time: 3.24 ms\n"
     ]
    }
   ],
   "source": [
    "%%time\n",
    "\n",
    "leng1=[]\n",
    "for i in range(len(mov)):\n",
    "    leng1.append(len(mov[i]))"
   ]
  },
  {
   "cell_type": "code",
   "execution_count": 11,
   "metadata": {},
   "outputs": [
    {
     "name": "stdout",
     "output_type": "stream",
     "text": [
      "CPU times: user 11.4 ms, sys: 0 ns, total: 11.4 ms\n",
      "Wall time: 11.1 ms\n"
     ]
    }
   ],
   "source": [
    "%%time\n",
    "\n",
    "dist1=[]\n",
    "leng1=np.array(leng1)\n",
    "\n",
    "for i in range(300):\n",
    "    dist1.append([i,np.mean(leng1<=i)])\n",
    "    \n",
    "dist1=np.array(dist1)"
   ]
  },
  {
   "cell_type": "code",
   "execution_count": 12,
   "metadata": {},
   "outputs": [
    {
     "data": {
      "image/png": "[encoded data removed]",
      "text/plain": [
       "<Figure size 432x288 with 1 Axes>"
      ]
     },
     "metadata": {},
     "output_type": "display_data"
    }
   ],
   "source": [
    "plt.step(dist1[:,0],dist1[:,1],color='blue', linewidth=2)\n",
    "plt.xticks(fontsize=12)\n",
    "plt.yticks(fontsize=12)\n",
    "plt.ylabel('Accumulated probability', size=14)\n",
    "plt.xlabel('Quantity of motions per proceeding', fontsize=14, labelpad=8)\n",
    "plt.gcf().subplots_adjust(bottom=0.15)\n",
    "plt.savefig(\"plots/dist_mov.png\", facecolor='white', dpi=100)\n",
    "plt.show()"
   ]
  },
  {
   "cell_type": "markdown",
   "metadata": {},
   "source": [
    "Let's evaluate the distribution of tokens quantities per motion."
   ]
  },
  {
   "cell_type": "code",
   "execution_count": 13,
   "metadata": {},
   "outputs": [
    {
     "name": "stdout",
     "output_type": "stream",
     "text": [
      "CPU times: user 9min 6s, sys: 6.71 s, total: 9min 12s\n",
      "Wall time: 9min 12s\n"
     ]
    }
   ],
   "source": [
    "%%time\n",
    "\n",
    "leng=[]\n",
    "for i in range(len(mov)):\n",
    "    for j in range(len(mov[i])):\n",
    "        leng.append(np.shape(tokens2matrix(tokenizer(mov[i][j][1])))[0])"
   ]
  },
  {
   "cell_type": "code",
   "execution_count": 14,
   "metadata": {},
   "outputs": [
    {
     "name": "stdout",
     "output_type": "stream",
     "text": [
      "CPU times: user 196 ms, sys: 0 ns, total: 196 ms\n",
      "Wall time: 195 ms\n"
     ]
    }
   ],
   "source": [
    "%%time\n",
    "\n",
    "dist=[]\n",
    "leng=np.array(leng)\n",
    "\n",
    "for i in range(100):\n",
    "    dist.append([i,np.mean(leng<=i)])\n",
    "    \n",
    "dist=np.array(dist)"
   ]
  },
  {
   "cell_type": "code",
   "execution_count": 15,
   "metadata": {},
   "outputs": [
    {
     "data": {
      "text/plain": [
       "array([[0.00000000e+00, 1.60344548e-06],\n",
       "       [1.00000000e+00, 8.06901871e-02],\n",
       "       [2.00000000e+00, 1.32794148e-01],\n",
       "       [3.00000000e+00, 2.20510633e-01],\n",
       "       [4.00000000e+00, 2.91059028e-01],\n",
       "       [5.00000000e+00, 3.41333457e-01],\n",
       "       [6.00000000e+00, 4.06920791e-01],\n",
       "       [7.00000000e+00, 4.40290095e-01],\n",
       "       [8.00000000e+00, 4.75325379e-01],\n",
       "       [9.00000000e+00, 5.22958934e-01],\n",
       "       [1.00000000e+01, 5.46022894e-01],\n",
       "       [1.10000000e+01, 5.74238724e-01],\n",
       "       [1.20000000e+01, 5.93731811e-01],\n",
       "       [1.30000000e+01, 6.16701167e-01],\n",
       "       [1.40000000e+01, 7.17009510e-01],\n",
       "       [1.50000000e+01, 7.37075027e-01],\n",
       "       [1.60000000e+01, 7.51355312e-01],\n",
       "       [1.70000000e+01, 7.58894713e-01],\n",
       "       [1.80000000e+01, 7.65412719e-01],\n",
       "       [1.90000000e+01, 7.73118878e-01],\n",
       "       [2.00000000e+01, 7.83852342e-01],\n",
       "       [2.10000000e+01, 8.00140141e-01],\n",
       "       [2.20000000e+01, 8.14580771e-01],\n",
       "       [2.30000000e+01, 8.24074772e-01],\n",
       "       [2.40000000e+01, 8.32221878e-01],\n",
       "       [2.50000000e+01, 8.37162094e-01],\n",
       "       [2.60000000e+01, 8.41568362e-01],\n",
       "       [2.70000000e+01, 8.46761922e-01],\n",
       "       [2.80000000e+01, 8.51554621e-01],\n",
       "       [2.90000000e+01, 8.56329681e-01],\n",
       "       [3.00000000e+01, 8.60897897e-01],\n",
       "       [3.10000000e+01, 8.65907061e-01],\n",
       "       [3.20000000e+01, 8.70079226e-01],\n",
       "       [3.30000000e+01, 8.73844116e-01],\n",
       "       [3.40000000e+01, 8.77549679e-01],\n",
       "       [3.50000000e+01, 8.81171862e-01],\n",
       "       [3.60000000e+01, 8.84606442e-01],\n",
       "       [3.70000000e+01, 8.87850213e-01],\n",
       "       [3.80000000e+01, 8.91098793e-01],\n",
       "       [3.90000000e+01, 8.94103650e-01],\n",
       "       [4.00000000e+01, 8.97284886e-01],\n",
       "       [4.10000000e+01, 9.00289743e-01],\n",
       "       [4.20000000e+01, 9.03113410e-01],\n",
       "       [4.30000000e+01, 9.05727026e-01],\n",
       "       [4.40000000e+01, 9.08403177e-01],\n",
       "       [4.50000000e+01, 9.11058482e-01],\n",
       "       [4.60000000e+01, 9.13498926e-01],\n",
       "       [4.70000000e+01, 9.16035577e-01],\n",
       "       [4.80000000e+01, 9.18437539e-01],\n",
       "       [4.90000000e+01, 9.20674345e-01],\n",
       "       [5.00000000e+01, 9.22659411e-01],\n",
       "       [5.10000000e+01, 9.24694183e-01],\n",
       "       [5.20000000e+01, 9.26451559e-01],\n",
       "       [5.30000000e+01, 9.28282694e-01],\n",
       "       [5.40000000e+01, 9.30073742e-01],\n",
       "       [5.50000000e+01, 9.31590602e-01],\n",
       "       [5.60000000e+01, 9.33157168e-01],\n",
       "       [5.70000000e+01, 9.34675631e-01],\n",
       "       [5.80000000e+01, 9.36030542e-01],\n",
       "       [5.90000000e+01, 9.37363006e-01],\n",
       "       [6.00000000e+01, 9.38764417e-01],\n",
       "       [6.10000000e+01, 9.40040760e-01],\n",
       "       [6.20000000e+01, 9.41272206e-01],\n",
       "       [6.30000000e+01, 9.42530910e-01],\n",
       "       [6.40000000e+01, 9.43630874e-01],\n",
       "       [6.50000000e+01, 9.44740458e-01],\n",
       "       [6.60000000e+01, 9.45848439e-01],\n",
       "       [6.70000000e+01, 9.46860213e-01],\n",
       "       [6.80000000e+01, 9.47868780e-01],\n",
       "       [6.90000000e+01, 9.48866124e-01],\n",
       "       [7.00000000e+01, 9.49842622e-01],\n",
       "       [7.10000000e+01, 9.50783844e-01],\n",
       "       [7.20000000e+01, 9.51665739e-01],\n",
       "       [7.30000000e+01, 9.52536410e-01],\n",
       "       [7.40000000e+01, 9.53397460e-01],\n",
       "       [7.50000000e+01, 9.54223235e-01],\n",
       "       [7.60000000e+01, 9.55039389e-01],\n",
       "       [7.70000000e+01, 9.55760939e-01],\n",
       "       [7.80000000e+01, 9.56421559e-01],\n",
       "       [7.90000000e+01, 9.57165557e-01],\n",
       "       [8.00000000e+01, 9.57848625e-01],\n",
       "       [8.10000000e+01, 9.58514055e-01],\n",
       "       [8.20000000e+01, 9.59129778e-01],\n",
       "       [8.30000000e+01, 9.59681363e-01],\n",
       "       [8.40000000e+01, 9.60306707e-01],\n",
       "       [8.50000000e+01, 9.60885551e-01],\n",
       "       [8.60000000e+01, 9.61509291e-01],\n",
       "       [8.70000000e+01, 9.62118600e-01],\n",
       "       [8.80000000e+01, 9.62644531e-01],\n",
       "       [8.90000000e+01, 9.63144806e-01],\n",
       "       [9.00000000e+01, 9.63688374e-01],\n",
       "       [9.10000000e+01, 9.64204683e-01],\n",
       "       [9.20000000e+01, 9.64688924e-01],\n",
       "       [9.30000000e+01, 9.65202026e-01],\n",
       "       [9.40000000e+01, 9.65667025e-01],\n",
       "       [9.50000000e+01, 9.66120800e-01],\n",
       "       [9.60000000e+01, 9.66574575e-01],\n",
       "       [9.70000000e+01, 9.67020333e-01],\n",
       "       [9.80000000e+01, 9.67421195e-01],\n",
       "       [9.90000000e+01, 9.67823659e-01]])"
      ]
     },
     "execution_count": 15,
     "metadata": {},
     "output_type": "execute_result"
    }
   ],
   "source": [
    "dist"
   ]
  },
  {
   "cell_type": "code",
   "execution_count": 15,
   "metadata": {},
   "outputs": [
    {
     "data": {
      "image/png": "[encoded data removed]",
      "text/plain": [
       "<Figure size 432x288 with 1 Axes>"
      ]
     },
     "metadata": {},
     "output_type": "display_data"
    }
   ],
   "source": [
    "plt.step(dist[:,0],dist[:,1],color='blue', linewidth=2)\n",
    "plt.xticks(fontsize=12)\n",
    "plt.yticks(fontsize=12)\n",
    "plt.ylabel('Accumulated probability', fontsize=14)\n",
    "plt.xlabel('Quantity of tokens per motion', fontsize=14, labelpad=8)\n",
    "plt.gcf().subplots_adjust(bottom=0.15)\n",
    "plt.savefig(\"plots/dist_token.png\", facecolor='white', dpi=100)\n",
    "plt.show()"
   ]
  },
  {
   "cell_type": "markdown",
   "metadata": {},
   "source": [
    "Approx. $95\\%$ of motions have less than 70 tokens."
   ]
  },
  {
   "cell_type": "markdown",
   "metadata": {},
   "source": [
    "### Getting the data and saving it"
   ]
  },
  {
   "cell_type": "code",
   "execution_count": 16,
   "metadata": {},
   "outputs": [
    {
     "name": "stdout",
     "output_type": "stream",
     "text": [
      "Number of valid proceedings (with motions and tags): 6449 \n",
      "\n",
      "20.0 % concluded\n",
      "40.0 % concluded\n",
      "60.0 % concluded\n",
      "80.0 % concluded\n",
      "100.0 % concluded\n",
      "CPU times: user 24.5 s, sys: 228 ms, total: 24.8 s\n",
      "Wall time: 24.8 s\n"
     ]
    }
   ],
   "source": [
    "%%time\n",
    "\n",
    "len1=5 #vamos pegar somente as últimas len1 movimentações\n",
    "len2=70 #vamos pegar somente os primeiros len2 tokens de cada movimentação\n",
    "\n",
    "X,y=get_X_y_w2v(mov,tags,len1,len2)"
   ]
  },
  {
   "cell_type": "code",
   "execution_count": 17,
   "metadata": {},
   "outputs": [
    {
     "data": {
      "text/plain": [
       "(6449, 5, 70, 100)"
      ]
     },
     "execution_count": 17,
     "metadata": {},
     "output_type": "execute_result"
    }
   ],
   "source": [
    "X.shape"
   ]
  },
  {
   "cell_type": "markdown",
   "metadata": {},
   "source": [
    "Saving data"
   ]
  },
  {
   "cell_type": "code",
   "execution_count": 18,
   "metadata": {},
   "outputs": [],
   "source": [
    "np.save('data/X_w2v.npy', X)\n",
    "np.save('data/y_w2v.npy', y)"
   ]
  }
 ],
 "metadata": {
  "kernelspec": {
   "display_name": "Environment (conda_tensorflow2_p36)",
   "language": "python",
   "name": "conda_tensorflow2_p36"
  },
  "language_info": {
   "codemirror_mode": {
    "name": "ipython",
    "version": 3
   },
   "file_extension": ".py",
   "mimetype": "text/x-python",
   "name": "python",
   "nbconvert_exporter": "python",
   "pygments_lexer": "ipython3",
   "version": "3.6.6"
  }
 },
 "nbformat": 4,
 "nbformat_minor": 2
}
