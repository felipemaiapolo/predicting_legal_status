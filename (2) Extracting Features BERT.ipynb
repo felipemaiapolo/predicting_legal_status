{
 "cells": [
  {
   "cell_type": "markdown",
   "metadata": {},
   "source": [
    "# Extracting Features BERT"
   ]
  },
  {
   "cell_type": "markdown",
   "metadata": {},
   "source": [
    "### Setup"
   ]
  },
  {
   "cell_type": "code",
   "execution_count": 1,
   "metadata": {},
   "outputs": [
    {
     "name": "stdout",
     "output_type": "stream",
     "text": [
      "There are 1 GPU(s) available.\n",
      "We will use the GPU: Tesla T4\n"
     ]
    }
   ],
   "source": [
    "import torch\n",
    "\n",
    "# If there's a GPU available...\n",
    "if torch.cuda.is_available():    \n",
    "\n",
    "    # Tell PyTorch to use the GPU.    \n",
    "    device = torch.device(\"cuda\")\n",
    "\n",
    "    print('There are %d GPU(s) available.' % torch.cuda.device_count())\n",
    "\n",
    "    print('We will use the GPU:', torch.cuda.get_device_name(0))\n",
    "\n",
    "# If not...\n",
    "else:\n",
    "    print('No GPU available, using the CPU instead.')\n",
    "    device = torch.device(\"cpu\")"
   ]
  },
  {
   "cell_type": "code",
   "execution_count": 2,
   "metadata": {},
   "outputs": [
    {
     "name": "stderr",
     "output_type": "stream",
     "text": [
      "Using TensorFlow backend.\n"
     ]
    }
   ],
   "source": [
    "%run -i 'random_state.py'\n",
    "from packages import *\n",
    "from clean_functions import *"
   ]
  },
  {
   "cell_type": "markdown",
   "metadata": {},
   "source": [
    "### Loading BERT"
   ]
  },
  {
   "cell_type": "code",
   "execution_count": 3,
   "metadata": {},
   "outputs": [
    {
     "name": "stdout",
     "output_type": "stream",
     "text": [
      "CPU times: user 3.25 s, sys: 1.5 s, total: 4.75 s\n",
      "Wall time: 8.22 s\n"
     ]
    }
   ],
   "source": [
    "%%time\n",
    "\n",
    "bert_tokenizer = BertTokenizer.from_pretrained('models/', do_lower_case=False)\n",
    "bert_model = BertModel.from_pretrained('models/').to(device)"
   ]
  },
  {
   "cell_type": "markdown",
   "metadata": {},
   "source": [
    "### Preparing datasets"
   ]
  },
  {
   "cell_type": "code",
   "execution_count": 4,
   "metadata": {},
   "outputs": [],
   "source": [
    "with open(\"data/mov.txt\", \"rb\") as fp:   # Legal proceedings\n",
    "    mov = pickle.load(fp)\n",
    "\n",
    "with open(\"data/tags.txt\", \"rb\") as fp:   # Tags\n",
    "    tags = pickle.load(fp)"
   ]
  },
  {
   "cell_type": "markdown",
   "metadata": {},
   "source": [
    "Letting motions in cronological order:"
   ]
  },
  {
   "cell_type": "code",
   "execution_count": 5,
   "metadata": {},
   "outputs": [
    {
     "data": {
      "text/plain": [
       "[['14-11-2018',\n",
       "  'Tipo do Movimento:Ato Ordinatório Praticado Descrição:Certifico e dou fé que as custas pendentes de fls 685 não foram recolhidas pelas parte GILMAR RODRIGUES REGO e BRUNO MEDEIROS.'],\n",
       " ['23-07-2018',\n",
       "  'Tipo do Movimento:Juntada - Petição Descrição da juntada:Documento eletrônico juntado de forma automática.'],\n",
       " ['16-07-2018',\n",
       "  'Tipo do Movimento:Publicado\\xa0 Atos da Serventia Folhas do DJERJ.:388/416'],\n",
       " ['29-06-2018', 'Tipo do Movimento:Enviado para publicação ']]"
      ]
     },
     "execution_count": 5,
     "metadata": {},
     "output_type": "execute_result"
    }
   ],
   "source": [
    "mov[0][:4]"
   ]
  },
  {
   "cell_type": "code",
   "execution_count": 6,
   "metadata": {},
   "outputs": [],
   "source": [
    "for m in mov:\n",
    "    m.reverse()"
   ]
  },
  {
   "cell_type": "code",
   "execution_count": 7,
   "metadata": {},
   "outputs": [
    {
     "data": {
      "text/plain": [
       "[['10-09-2010',\n",
       "  'Tipo do Movimento:Distribuição Sorteio Serventia:Cartório da 34ª Vara Cível - 34ª Vara Cível'],\n",
       " ['21-09-2010',\n",
       "  'Tipo do Movimento:Conclusão ao Juiz Juiz:JOAO MARCOS DE CASTELLO BRANCO FANTINATO'],\n",
       " ['23-09-2010',\n",
       "  'Tipo do Movimento:Despacho - Proferido despacho de mero expediente Descrição:Defiro JG. \\r\\n\\r\\nIndefiro a antecipação dos efeitos da tutela, eis que as alegações do autor carecem de dilação probatória.\\r\\n\\r\\nCite-se.'],\n",
       " ['23-09-2010', 'Tipo do Movimento:Enviado para publicação ']]"
      ]
     },
     "execution_count": 7,
     "metadata": {},
     "output_type": "execute_result"
    }
   ],
   "source": [
    "mov[0][:4]"
   ]
  },
  {
   "cell_type": "markdown",
   "metadata": {},
   "source": [
    "Cleaning texts"
   ]
  },
  {
   "cell_type": "code",
   "execution_count": 8,
   "metadata": {},
   "outputs": [
    {
     "name": "stdout",
     "output_type": "stream",
     "text": [
      "CPU times: user 1min 55s, sys: 70.9 ms, total: 1min 55s\n",
      "Wall time: 1min 55s\n"
     ]
    }
   ],
   "source": [
    "%%time\n",
    "\n",
    "for i in range(len(mov)):\n",
    "    for j in range(len(mov[i])):\n",
    "        mov[i][j][1]=clean_bert(mov[i][j][1])"
   ]
  },
  {
   "cell_type": "markdown",
   "metadata": {},
   "source": [
    "### Defining some functions"
   ]
  },
  {
   "cell_type": "code",
   "execution_count": 9,
   "metadata": {},
   "outputs": [],
   "source": [
    "def get_X_y_bert(mov, tags, len1=5, embed_dim=768):\n",
    "    \n",
    "    #len1: let's take the last l1 motions in each proceeding\n",
    "    \n",
    "    #indexes of valid legal proceedings (with motions and tags)\n",
    "    index=[]\n",
    "    for i in range(len(mov)):\n",
    "        if 0<len(mov[i]) and tags[i]!=\"\": index.append(i) \n",
    "        else: pass\n",
    "\n",
    "    print(\"Number of valid proceedings (with motions and tags):\",len(index),\"\\n\")\n",
    "\n",
    "    #organizing motions in X and tags in y\n",
    "    X=np.zeros((len(index),len1,embed_dim))\n",
    "    y=[]\n",
    "    cont=0\n",
    "    \n",
    "    #get numerical X embedding the tokens from those motions (from valid proceedings):\n",
    "    for i in index:\n",
    "        temp=[]\n",
    "        y.append(tags[i])\n",
    "\n",
    "        mov[i]=mov[i][-len1::] #let's take the last l1 motions in each proceeding\n",
    "\n",
    "        for j in range(len(mov[i])):\n",
    "            tokens=torch.tensor(bert_tokenizer.encode(mov[i][j][1], add_special_tokens=True, max_length=512)).unsqueeze(0).to(device)\n",
    "            \n",
    "            bert_model.eval()\n",
    "            with torch.no_grad(): temp=bert_model(tokens)[1].cpu().numpy().reshape(-1)\n",
    "            \n",
    "            X[cont][j][:np.shape(temp)[0]]=temp\n",
    "\n",
    "        #counter\n",
    "        cont+=1\n",
    "        if cont%int(len(index)/5)==0: print(round(100*cont/len(index),0),\"% concluded\")\n",
    "        else: pass\n",
    "        \n",
    "    return X,y"
   ]
  },
  {
   "cell_type": "markdown",
   "metadata": {},
   "source": [
    "### Exploring data"
   ]
  },
  {
   "cell_type": "markdown",
   "metadata": {},
   "source": [
    "Let's evaluate the distribution of motion quantities per proceeding."
   ]
  },
  {
   "cell_type": "code",
   "execution_count": 10,
   "metadata": {},
   "outputs": [
    {
     "name": "stdout",
     "output_type": "stream",
     "text": [
      "CPU times: user 4.78 ms, sys: 0 ns, total: 4.78 ms\n",
      "Wall time: 4.74 ms\n"
     ]
    }
   ],
   "source": [
    "%%time\n",
    "\n",
    "leng1=[]\n",
    "for i in range(len(mov)):\n",
    "    leng1.append(len(mov[i]))"
   ]
  },
  {
   "cell_type": "code",
   "execution_count": 11,
   "metadata": {},
   "outputs": [
    {
     "name": "stdout",
     "output_type": "stream",
     "text": [
      "CPU times: user 7.31 ms, sys: 0 ns, total: 7.31 ms\n",
      "Wall time: 6.84 ms\n"
     ]
    }
   ],
   "source": [
    "%%time\n",
    "\n",
    "dist1=[]\n",
    "leng1=np.array(leng1)\n",
    "\n",
    "for i in range(300):\n",
    "    dist1.append([i,np.mean(leng1<=i)])\n",
    "    \n",
    "dist1=np.array(dist1)"
   ]
  },
  {
   "cell_type": "code",
   "execution_count": 12,
   "metadata": {},
   "outputs": [
    {
     "data": {
      "image/png": "[encoded data removed]",
      "text/plain": [
       "<Figure size 432x288 with 1 Axes>"
      ]
     },
     "metadata": {},
     "output_type": "display_data"
    }
   ],
   "source": [
    "plt.step(dist1[:,0],dist1[:,1],color='blue', linewidth=2)\n",
    "plt.xticks(fontsize=12)\n",
    "plt.yticks(fontsize=12)\n",
    "plt.ylabel('Accumulated probability', size=14)\n",
    "plt.xlabel('Quantity of motions per proceeding', fontsize=14, labelpad=8)\n",
    "plt.gcf().subplots_adjust(bottom=0.15)\n",
    "plt.savefig(\"plots/dist_mov.png\", facecolor='white', dpi=100)\n",
    "plt.show()"
   ]
  },
  {
   "cell_type": "markdown",
   "metadata": {},
   "source": [
    "### Getting the data and saving it"
   ]
  },
  {
   "cell_type": "code",
   "execution_count": 13,
   "metadata": {},
   "outputs": [
    {
     "name": "stdout",
     "output_type": "stream",
     "text": [
      "Number of valid proceedings (with motions and tags): 6449 \n",
      "\n",
      "20.0 % concluded\n",
      "40.0 % concluded\n",
      "60.0 % concluded\n",
      "80.0 % concluded\n",
      "100.0 % concluded\n",
      "CPU times: user 5min 35s, sys: 453 ms, total: 5min 36s\n",
      "Wall time: 5min 36s\n"
     ]
    }
   ],
   "source": [
    "%%time\n",
    "\n",
    "len1=5 #vamos pegar somente as últimas len1 movimentações\n",
    "\n",
    "X,y=get_X_y_bert(mov,tags,len1)"
   ]
  },
  {
   "cell_type": "code",
   "execution_count": 14,
   "metadata": {},
   "outputs": [
    {
     "data": {
      "text/plain": [
       "(6449, 5, 768)"
      ]
     },
     "execution_count": 14,
     "metadata": {},
     "output_type": "execute_result"
    }
   ],
   "source": [
    "X.shape"
   ]
  },
  {
   "cell_type": "markdown",
   "metadata": {},
   "source": [
    "Saving data"
   ]
  },
  {
   "cell_type": "code",
   "execution_count": 15,
   "metadata": {},
   "outputs": [],
   "source": [
    "np.save('data/X_bert.npy', X)\n",
    "np.save('data/y_bert.npy', y)"
   ]
  }
 ],
 "metadata": {
  "kernelspec": {
   "display_name": "Environment (conda_pytorch_p36)",
   "language": "python",
   "name": "conda_pytorch_p36"
  },
  "language_info": {
   "codemirror_mode": {
    "name": "ipython",
    "version": 3
   },
   "file_extension": ".py",
   "mimetype": "text/x-python",
   "name": "python",
   "nbconvert_exporter": "python",
   "pygments_lexer": "ipython3",
   "version": "3.6.5"
  }
 },
 "nbformat": 4,
 "nbformat_minor": 2
}
